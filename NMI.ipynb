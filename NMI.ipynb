{
 "cells": [
  {
   "cell_type": "markdown",
   "metadata": {},
   "source": [
    "## Dataset Analysis And Assumption"
   ]
  },
  {
   "cell_type": "markdown",
   "metadata": {},
   "source": [
    "12 csv files in relation to 12 different sites energy consumption between 2017-10-01 and 2018-09-30 with an interval of either 15 or 30 minutes. 1 file contains each site's state and 1 file contains holidays of each state.\n",
    "Assumptions:\n",
    "1. each site is independent of other sites\n",
    "2. operating hours are indicated by relatively high energy consumption in aggregated intervals(2 30-min intervals or 4 15-min intervals)\n",
    "3. operating hours do not apply to days when site is close i.e. public hoildays\n",
    "4. operating hours are relatively fixed for each site"
   ]
  },
  {
   "cell_type": "markdown",
   "metadata": {},
   "source": [
    "# Solution Overview"
   ]
  },
  {
   "cell_type": "markdown",
   "metadata": {},
   "source": [
    "This solution uses S3 as data repsository, Lambda function as processing server with API Gateway as front end. An end user can call API gateway via any programming language then visualize and/or further manipulate returned data. User can either manually upload file into S3 or automate the process."
   ]
  },
  {
   "cell_type": "markdown",
   "metadata": {},
   "source": [
    "## Architecture"
   ]
  },
  {
   "cell_type": "markdown",
   "metadata": {},
   "source": [
    "<img src=\"nmi.jpg\">"
   ]
  },
  {
   "cell_type": "code",
   "execution_count": null,
   "metadata": {
    "scrolled": false
   },
   "outputs": [],
   "source": [
    "import json\n",
    "import pandas as pd\n",
    "import matplotlib.pyplot as plt\n",
    "%matplotlib inline\n",
    "import numpy as np\n",
    "from datetime import datetime\n",
    "import requests\n",
    "\n",
    "#file in S3 that to be processed\n",
    "#I've uploaded all 12 files in an S3 bucket,\n",
    "#you can see different output by changing file variable to different files names\n",
    "file = 'NMIA1.csv'\n",
    "\n",
    "#API to activate lambda function, a single file is processed each call\n",
    "#use loop for muli-files processing\n",
    "url = 'https://cptnldpq25.execute-api.us-east-2.amazonaws.com/test/portfolio?file='+file\n",
    "\n",
    "#return requests response contains aggregated hourly E and daily E, mean, std, and skewness of E in original file\n",
    "#aggregated hourly E and daily E are loaded into respective pandas dataframe for visualisation and further manipulation\n",
    "res = requests.get(url=url)\n",
    "hours = res.json()['hours']\n",
    "df_hours = pd.DataFrame(data=json.loads(hours))\n",
    "df_hours.index = df_hours.index.astype(int)\n",
    "df_hours.sort_index(inplace=True)\n",
    "days = res.json()['days']\n",
    "df_days = pd.DataFrame(data=json.loads(days))\n",
    "#mean, std and skewness help understand the shape of original data\n",
    "mean = res.json()['mean']\n",
    "std = res.json()['std']\n",
    "skew = res.json()['skew']\n",
    "\n",
    "#average std/mean ratio in acrosss 12 provided file is 0.57\n",
    "#cutoff value for operating hours is 1 std less than mean if std/mean ratio is less than or equal to 0.57\n",
    "#or 1/2 std less than mean if std/mean ratio if greater than 0.57\n",
    "#this is an educated guess approach without knowing business meaning of the data\n",
    "if std/mean<=0.57:\n",
    "    cutoff = mean - std\n",
    "else:\n",
    "    cutoff = mean - std/2\n",
    "    \n",
    "#visualisation of operating hours represented in green colour\n",
    "x = df_hours.index.values\n",
    "y = df_hours['interval'].values\n",
    "xy = [(x[i],y[i]) for i in range(len(x))]\n",
    "fig, ax = plt.subplots(figsize=(12,8))\n",
    "for start, stop in zip(xy[:-1],xy[1:]):\n",
    "    x_val, y_val = zip(start, stop)\n",
    "    if (y_val[1]>cutoff):\n",
    "        ax.plot(x_val, y_val, color='green')\n",
    "    else:\n",
    "        ax.plot(x_val, y_val, color='red')\n",
    "ax.set(xlabel='Hours', ylabel='Interval E',title='Operating Hours')\n",
    "ax.set_xticks(np.arange(24))\n",
    "ax.grid()\n",
    "plt.show()"
   ]
  },
  {
   "cell_type": "code",
   "execution_count": null,
   "metadata": {},
   "outputs": [],
   "source": [
    "#join holidays and nmi_info table on State\n",
    "#return site_holidays dataframe contains all holiday dates for each site\n",
    "holidays = pd.read_csv('holidays.csv')\n",
    "nmi_info = pd.read_csv('nmi_info.csv')\n",
    "data = {}\n",
    "for i, row in nmi_info.iterrows():\n",
    "    site = row['Nmi']\n",
    "    state = row['State']\n",
    "    dates = holidays[holidays['State']==state]['LocalDate'].values\n",
    "    data[site] = dates\n",
    "site_holidays = pd.DataFrame(dict([(k,pd.Series(v)) for k, v in data.items()]))\n",
    "site_holidays = site_holidays.apply(lambda x: pd.to_datetime(x),axis=1)\n",
    "site_holidays = site_holidays.apply(lambda x: x.dt.date,axis=1)"
   ]
  },
  {
   "cell_type": "code",
   "execution_count": null,
   "metadata": {},
   "outputs": [],
   "source": [
    "#convert df_days' index from timestamp to date for comparison with holiday dates in site_holidays\n",
    "lst = []\n",
    "for x in df_days.index:\n",
    "    lst.append(datetime.fromtimestamp(int(x)//1000).date())\n",
    "df_days.index = lst\n",
    "\n",
    "#extract 20 days with least E value and check whether these are holidays for the site\n",
    "#20 is an arbitrary number that can be defined by end user\n",
    "least_20 = df_days.sort_values(by=['E']).head(20)\n",
    "least_20['Holiday'] = 'TBC'\n",
    "each_site_holidays = site_holidays[file.split('.')[0]].values\n",
    "for date in least_20.index:\n",
    "    if date in each_site_holidays:\n",
    "        least_20['Holiday'].loc[date] = 'Yes'\n",
    "    else:\n",
    "        least_20['Holiday'].loc[date] = 'No'\n",
    "least_20"
   ]
  },
  {
   "cell_type": "code",
   "execution_count": null,
   "metadata": {},
   "outputs": [],
   "source": [
    "#scatter plot all the daily E values with holidays in red\n",
    "fig,ax = plt.subplots(figsize=(12,8))\n",
    "for i in range(len(df_days)):\n",
    "    if df_days.index.values[i] in each_site_holidays:\n",
    "        ax.scatter(x=df_days.index.values[i],y=df_days['E'].values[i],c='red')\n",
    "    else:\n",
    "        ax.scatter(x=df_days.index.values[i],y=df_days['E'].values[i],c='blue',alpha=0.3)\n",
    "ax.grid()\n",
    "plt.show()"
   ]
  },
  {
   "cell_type": "code",
   "execution_count": null,
   "metadata": {},
   "outputs": [],
   "source": []
  }
 ],
 "metadata": {
  "kernelspec": {
   "display_name": "Python 3",
   "language": "python",
   "name": "python3"
  },
  "language_info": {
   "codemirror_mode": {
    "name": "ipython",
    "version": 3
   },
   "file_extension": ".py",
   "mimetype": "text/x-python",
   "name": "python",
   "nbconvert_exporter": "python",
   "pygments_lexer": "ipython3",
   "version": "3.7.3"
  }
 },
 "nbformat": 4,
 "nbformat_minor": 2
}
